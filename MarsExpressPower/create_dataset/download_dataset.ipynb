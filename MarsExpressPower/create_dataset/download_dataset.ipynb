{
 "cells": [
  {
   "cell_type": "markdown",
   "metadata": {},
   "source": [
    "# Download Dataset\n",
    "\n",
    "Download the dataset of the Mars Express Power Challenge"
   ]
  },
  {
   "cell_type": "markdown",
   "metadata": {},
   "source": [
    "## import libraries"
   ]
  },
  {
   "cell_type": "code",
   "execution_count": 1,
   "metadata": {
    "collapsed": true
   },
   "outputs": [],
   "source": [
    "import subprocess\n",
    "from zipfile import ZipFile"
   ]
  },
  {
   "cell_type": "markdown",
   "metadata": {},
   "source": [
    "## Helper Functions"
   ]
  },
  {
   "cell_type": "code",
   "execution_count": 2,
   "metadata": {},
   "outputs": [],
   "source": [
    "def download_unzip(url, file_name, folder):\n",
    "\n",
    "    # create the directory, if folder does not exist\n",
    "    if os.path.isdir(folder) == False:\n",
    "        print('Creating the folder %s...' % folder)\n",
    "        os.mkdir(folder)\n",
    "\n",
    "    path = folder + '/' + file_name\n",
    "\n",
    "    # download the file contents in binary format if it does not exist\n",
    "    if os.path.exists(path) == False:\n",
    "        print('Downloading from %s, this may take a while...' % url)\n",
    "        subprocess.call(['wget',\n",
    "                        '--no-check-certificate',\n",
    "                        url + file_name, \n",
    "                        '-P',\n",
    "                        folder]) \n",
    "\n",
    "        # Create a ZipFile Object and load sample.zip in it\n",
    "        with ZipFile(path, 'r') as zipObj:\n",
    "            # Extract all the contents of zip file in directory folder\n",
    "            zipObj.extractall(folder)"
   ]
  },
  {
   "cell_type": "markdown",
   "metadata": {},
   "source": [
    "### Download"
   ]
  },
  {
   "cell_type": "code",
   "execution_count": 3,
   "metadata": {},
   "outputs": [],
   "source": [
    "url = 'https://live.kelvins.esa.int/media/public/competitions/mars-express-power-challenge/'\n",
    "file_name = 'mars-express-power-3years'\n",
    "file_extension = '.zip'\n",
    "folder = '../../data'\n",
    "PATH_TO_DATA = folder + \"/\" + file_name + \"/\""
   ]
  },
  {
   "cell_type": "code",
   "execution_count": 4,
   "metadata": {
    "collapsed": true
   },
   "outputs": [],
   "source": [
    "# we donwload the dataset and unzip it inside the folder\n",
    "# download_unzip(url, file_name + file_extension, folder)"
   ]
  },
  {
   "cell_type": "markdown",
   "metadata": {},
   "source": [
    "Otherwise, we can download the dataset manually:\n",
    "\n",
    " - wget --no-check-certificate https://live.kelvins.esa.int/media/public/competitions/mars-express-power-challenge/mars-express-power-3years.zip\n",
    " - Add and unzip it at the folder \"data\"\n",
    "\n",
    " Or we can use the DVC configuration:\n",
    "\n",
    " - the command \"git pull\" will download the dataset"
   ]
  }
 ],
 "metadata": {
  "interpreter": {
   "hash": "00e021f687322540f4544787d6c52e8d6f687ec79fd3ada94c51037603920421"
  },
  "kernelspec": {
   "display_name": "Python 3.7.10 64-bit ('base': conda)",
   "name": "python3"
  },
  "language_info": {
   "codemirror_mode": {
    "name": "ipython",
    "version": 3
   },
   "file_extension": ".py",
   "mimetype": "text/x-python",
   "name": "python",
   "nbconvert_exporter": "python",
   "pygments_lexer": "ipython3",
   "version": "3.7.10"
  }
 },
 "nbformat": 4,
 "nbformat_minor": 2
}
